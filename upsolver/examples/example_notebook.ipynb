{
 "cells": [
  {
   "cell_type": "code",
   "execution_count": null,
   "id": "4b7b09ab-fa97-4192-b7bc-ffb59ea86ac3",
   "metadata": {},
   "outputs": [],
   "source": [
    "import os\n",
    "import sys\n",
    "from pathlib import Path\n",
    "module_path = str(Path.cwd().parent.parent)\n",
    "if module_path not in sys.path:\n",
    "    sys.path.append(module_path)"
   ]
  },
  {
   "cell_type": "code",
   "execution_count": null,
   "id": "b19a594a-8eaf-4b20-a892-51b26e560582",
   "metadata": {},
   "outputs": [],
   "source": [
    "from upsolver.sdk.client import UpsolverApi"
   ]
  },
  {
   "cell_type": "code",
   "execution_count": null,
   "id": "b6e0ed9c-a07a-4360-a853-9e873cec5011",
   "metadata": {},
   "outputs": [],
   "source": [
    "user = \"\"\n",
    "password = \"\"\n",
    "api = UpsolverApi(env='local', user_email=user, user_password=password)"
   ]
  },
  {
   "cell_type": "code",
   "execution_count": null,
   "id": "e425f7d7-ac1b-43dc-a7f6-4a4fbdef2b57",
   "metadata": {},
   "outputs": [],
   "source": [
    "api.execute_command(\"create table local.efrat.tbl\")"
   ]
  },
  {
   "cell_type": "code",
   "execution_count": null,
   "id": "d80ebaac-b8b0-4359-9ce9-3b6e1c1cdd05",
   "metadata": {},
   "outputs": [],
   "source": [
    "tables = api.query_to_df(\"select * from information_schema.tables\")\n",
    "tables"
   ]
  },
  {
   "cell_type": "code",
   "execution_count": null,
   "id": "a24cb20a-3a09-4789-853a-286d378cbf27",
   "metadata": {},
   "outputs": [],
   "source": [
    "data = api.query_to_df(\"select * from local.efrat.t1 limit 1000\")\n",
    "data.head(10)"
   ]
  },
  {
   "cell_type": "code",
   "execution_count": null,
   "id": "fc87efc7-4918-4ac8-95b8-c010f7af4ff4",
   "metadata": {},
   "outputs": [],
   "source": [
    "import upsolver.dbapi as upsolver\n",
    "conn=upsolver.connect(\n",
    "    token='',\n",
    "    api_url='https://mt-api-prod.upsolver.com'\n",
    ")\n",
    "cur = conn.cursor()\n",
    "cur.execute('Select * from default_glue_catalog.database_16e61b.uptable_test2 limit 10;')\n",
    "rows = cur.fetchall()\n",
    "print(rows)"
   ]
  },
  {
   "cell_type": "code",
   "execution_count": null,
   "id": "66ab2dfc",
   "metadata": {},
   "outputs": [],
   "source": []
  }
 ],
 "metadata": {
  "kernelspec": {
   "display_name": "base",
   "language": "python",
   "name": "python3"
  },
  "language_info": {
   "codemirror_mode": {
    "name": "ipython",
    "version": 3
   },
   "file_extension": ".py",
   "mimetype": "text/x-python",
   "name": "python",
   "nbconvert_exporter": "python",
   "pygments_lexer": "ipython3",
   "version": "3.8.11"
  },
  "vscode": {
   "interpreter": {
    "hash": "fc8be8c3e0dd76b94862e9176e89fb54730471b358fa4216d982909db524631b"
   }
  }
 },
 "nbformat": 4,
 "nbformat_minor": 5
}
